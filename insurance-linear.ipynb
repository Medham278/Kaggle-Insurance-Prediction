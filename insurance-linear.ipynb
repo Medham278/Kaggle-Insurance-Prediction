{
 "cells": [
  {
   "cell_type": "markdown",
   "metadata": {
    "_cell_guid": "b1076dfc-b9ad-4769-8c92-a6c4dae69d19",
    "_uuid": "8f2839f25d086af736a60e9eeb907d3b93b6e0e5",
    "id": "wzwNpPBSVBIf"
   },
   "source": [
    "# Insurance cost prediction using linear regression\n",
    "\n",
    "Make a submisson here: https://jovian.ai/learn/deep-learning-with-pytorch-zero-to-gans/assignment/assignment-2-train-your-first-model\n",
    "\n",
    "In this assignment we're going to use information like a person's age, sex, BMI, no. of children and smoking habit to predict the price of yearly medical bills. This kind of model is useful for insurance companies to determine the yearly insurance premium for a person. The dataset for this problem is taken from [Kaggle](https://www.kaggle.com/mirichoi0218/insurance).\n",
    "\n",
    "\n",
    "We will create a model with the following steps:\n",
    "1. Download and explore the dataset\n",
    "2. Prepare the dataset for training\n",
    "3. Create a linear regression model\n",
    "4. Train the model to fit the data\n",
    "5. Make predictions using the trained model\n",
    "\n",
    "\n",
    "This assignment builds upon the concepts from the first 2 lessons. It will help to review these Jupyter notebooks:\n",
    "- PyTorch basics: https://jovian.ai/aakashns/01-pytorch-basics\n",
    "- Linear Regression: https://jovian.ai/aakashns/02-linear-regression\n",
    "- Logistic Regression: https://jovian.ai/aakashns/03-logistic-regression\n",
    "- Linear regression (minimal): https://jovian.ai/aakashns/housing-linear-minimal\n",
    "- Logistic regression (minimal): https://jovian.ai/aakashns/mnist-logistic-minimal\n",
    "\n",
    "As you go through this notebook, you will find a **???** in certain places. Your job is to replace the **???** with appropriate code or values, to ensure that the notebook runs properly end-to-end . In some cases, you'll be required to choose some hyperparameters (learning rate, batch size etc.). Try to experiment with the hypeparameters to get the lowest loss.\n"
   ]
  },
  {
   "cell_type": "code",
   "execution_count": null,
   "metadata": {
    "id": "kW9gcY0LVBIh"
   },
   "outputs": [],
   "source": [
    "# Uncomment and run the appropriate command for your operating system, if required\n",
    "\n",
    "# Linux / Binder\n",
    "# !pip install numpy matplotlib pandas torch==1.7.0+cpu torchvision==0.8.1+cpu torchaudio==0.7.0 -f https://download.pytorch.org/whl/torch_stable.html\n",
    "\n",
    "# Windows\n",
    "# !pip install numpy matplotlib pandas torch==1.7.0+cpu torchvision==0.8.1+cpu torchaudio==0.7.0 -f https://download.pytorch.org/whl/torch_stable.html\n",
    "\n",
    "# MacOS\n",
    "# !pip install numpy matplotlib pandas torch torchvision torchaudio"
   ]
  },
  {
   "cell_type": "code",
   "execution_count": null,
   "metadata": {
    "id": "8EswxYMOVBIh"
   },
   "outputs": [],
   "source": [
    "import torch\n",
    "import jovian\n",
    "import torchvision\n",
    "import torch.nn as nn\n",
    "import pandas as pd\n",
    "import matplotlib.pyplot as plt\n",
    "import torch.nn.functional as F\n",
    "from torchvision.datasets.utils import download_url\n",
    "from torch.utils.data import DataLoader, TensorDataset, random_split"
   ]
  },
  {
   "cell_type": "code",
   "execution_count": null,
   "metadata": {
    "id": "0Ru1mt6kjG7Q"
   },
   "outputs": [],
   "source": [
    "import matplotlib\r\n",
    "import matplotlib.pyplot as plt\r\n",
    "import seaborn as sns"
   ]
  },
  {
   "cell_type": "code",
   "execution_count": null,
   "metadata": {
    "id": "7gq_TQCLjKGy"
   },
   "outputs": [],
   "source": [
    "sns.set_style(\"darkgrid\")\r\n",
    "matplotlib.rcParams['font.size'] = 14\r\n",
    "matplotlib.rcParams['figure.figsize'] = (9, 5)\r\n",
    "matplotlib.rcParams['figure.facecolor'] = '#00000000'"
   ]
  },
  {
   "cell_type": "code",
   "execution_count": null,
   "metadata": {
    "id": "d1YRZGSRVBIi"
   },
   "outputs": [],
   "source": [
    "project_name='02-insurance-linear-regression' # will be used by jovian.commit"
   ]
  },
  {
   "cell_type": "markdown",
   "metadata": {
    "id": "qVBVsx6oVBIi"
   },
   "source": [
    "## Step 1: Download and explore the data\n",
    "\n",
    "Let us begin by downloading the data. We'll use the `download_url` function from PyTorch to get the data as a CSV (comma-separated values) file. "
   ]
  },
  {
   "cell_type": "code",
   "execution_count": null,
   "metadata": {
    "_cell_guid": "79c7e3d0-c299-4dcb-8224-4455121ee9b0",
    "_uuid": "d629ff2d2480ee46fbb7e2d37f6b5fab8052498a",
    "colab": {
     "base_uri": "https://localhost:8080/",
     "height": 66,
     "referenced_widgets": [
      "54a3423e3df64f27871fd1bccd468d9e",
      "0fcf4f81ba0c49d58d56a9e7fc4775d5",
      "db149543d8614e91a145949f8a6b662a",
      "8740f719a16b48ffabfe29756c630a0d",
      "f131cc911cf649868e9043957238e413",
      "1dec966855ed47daa73cc35993ab430f",
      "60eb63792a3147daa2533be25e6e60d6",
      "fb80e6cd5e404280aeeeb3811b54d0df"
     ]
    },
    "executionInfo": {
     "elapsed": 2555,
     "status": "ok",
     "timestamp": 1609326918525,
     "user": {
      "displayName": "Medha Mathur",
      "photoUrl": "https://lh3.googleusercontent.com/a-/AOh14GhU5rpc98_bHp-wBsi8gjk3rfPBSk5rV-xSzpRV=s64",
      "userId": "09694216789696746072"
     },
     "user_tz": -330
    },
    "id": "OsSZPPwkVBIj",
    "outputId": "7c6b9cba-a5f7-44ba-aa9a-ed0aa45042fb"
   },
   "outputs": [
    {
     "name": "stdout",
     "output_type": "stream",
     "text": [
      "Downloading https://hub.jovian.ml/wp-content/uploads/2020/05/insurance.csv to ./insurance.csv\n"
     ]
    },
    {
     "data": {
      "application/vnd.jupyter.widget-view+json": {
       "model_id": "54a3423e3df64f27871fd1bccd468d9e",
       "version_major": 2,
       "version_minor": 0
      },
      "text/plain": [
       "HBox(children=(FloatProgress(value=1.0, bar_style='info', max=1.0), HTML(value='')))"
      ]
     },
     "metadata": {
      "tags": []
     },
     "output_type": "display_data"
    }
   ],
   "source": [
    "DATASET_URL = \"https://hub.jovian.ml/wp-content/uploads/2020/05/insurance.csv\"\n",
    "DATA_FILENAME = \"insurance.csv\"\n",
    "download_url(DATASET_URL, '.')"
   ]
  },
  {
   "cell_type": "markdown",
   "metadata": {
    "id": "_bDBamYFVBIl"
   },
   "source": [
    "To load the dataset into memory, we'll use the `read_csv` function from the `pandas` library. The data will be loaded as a Pandas dataframe. See this short tutorial to learn more: https://data36.com/pandas-tutorial-1-basics-reading-data-files-dataframes-data-selection/"
   ]
  },
  {
   "cell_type": "code",
   "execution_count": null,
   "metadata": {
    "colab": {
     "base_uri": "https://localhost:8080/",
     "height": 195
    },
    "executionInfo": {
     "elapsed": 1018,
     "status": "ok",
     "timestamp": 1609326924177,
     "user": {
      "displayName": "Medha Mathur",
      "photoUrl": "https://lh3.googleusercontent.com/a-/AOh14GhU5rpc98_bHp-wBsi8gjk3rfPBSk5rV-xSzpRV=s64",
      "userId": "09694216789696746072"
     },
     "user_tz": -330
    },
    "id": "wqtCe6DEVBIl",
    "outputId": "212dcb68-bc0c-4ceb-a870-159ecd27efcc"
   },
   "outputs": [
    {
     "data": {
      "text/html": [
       "<div>\n",
       "<style scoped>\n",
       "    .dataframe tbody tr th:only-of-type {\n",
       "        vertical-align: middle;\n",
       "    }\n",
       "\n",
       "    .dataframe tbody tr th {\n",
       "        vertical-align: top;\n",
       "    }\n",
       "\n",
       "    .dataframe thead th {\n",
       "        text-align: right;\n",
       "    }\n",
       "</style>\n",
       "<table border=\"1\" class=\"dataframe\">\n",
       "  <thead>\n",
       "    <tr style=\"text-align: right;\">\n",
       "      <th></th>\n",
       "      <th>age</th>\n",
       "      <th>sex</th>\n",
       "      <th>bmi</th>\n",
       "      <th>children</th>\n",
       "      <th>smoker</th>\n",
       "      <th>region</th>\n",
       "      <th>charges</th>\n",
       "    </tr>\n",
       "  </thead>\n",
       "  <tbody>\n",
       "    <tr>\n",
       "      <th>0</th>\n",
       "      <td>19</td>\n",
       "      <td>female</td>\n",
       "      <td>27.900</td>\n",
       "      <td>0</td>\n",
       "      <td>yes</td>\n",
       "      <td>southwest</td>\n",
       "      <td>16884.92400</td>\n",
       "    </tr>\n",
       "    <tr>\n",
       "      <th>1</th>\n",
       "      <td>18</td>\n",
       "      <td>male</td>\n",
       "      <td>33.770</td>\n",
       "      <td>1</td>\n",
       "      <td>no</td>\n",
       "      <td>southeast</td>\n",
       "      <td>1725.55230</td>\n",
       "    </tr>\n",
       "    <tr>\n",
       "      <th>2</th>\n",
       "      <td>28</td>\n",
       "      <td>male</td>\n",
       "      <td>33.000</td>\n",
       "      <td>3</td>\n",
       "      <td>no</td>\n",
       "      <td>southeast</td>\n",
       "      <td>4449.46200</td>\n",
       "    </tr>\n",
       "    <tr>\n",
       "      <th>3</th>\n",
       "      <td>33</td>\n",
       "      <td>male</td>\n",
       "      <td>22.705</td>\n",
       "      <td>0</td>\n",
       "      <td>no</td>\n",
       "      <td>northwest</td>\n",
       "      <td>21984.47061</td>\n",
       "    </tr>\n",
       "    <tr>\n",
       "      <th>4</th>\n",
       "      <td>32</td>\n",
       "      <td>male</td>\n",
       "      <td>28.880</td>\n",
       "      <td>0</td>\n",
       "      <td>no</td>\n",
       "      <td>northwest</td>\n",
       "      <td>3866.85520</td>\n",
       "    </tr>\n",
       "  </tbody>\n",
       "</table>\n",
       "</div>"
      ],
      "text/plain": [
       "   age     sex     bmi  children smoker     region      charges\n",
       "0   19  female  27.900         0    yes  southwest  16884.92400\n",
       "1   18    male  33.770         1     no  southeast   1725.55230\n",
       "2   28    male  33.000         3     no  southeast   4449.46200\n",
       "3   33    male  22.705         0     no  northwest  21984.47061\n",
       "4   32    male  28.880         0     no  northwest   3866.85520"
      ]
     },
     "execution_count": 8,
     "metadata": {
      "tags": []
     },
     "output_type": "execute_result"
    }
   ],
   "source": [
    "dataframe_raw = pd.read_csv(DATA_FILENAME)\n",
    "dataframe_raw.head()"
   ]
  },
  {
   "cell_type": "markdown",
   "metadata": {
    "id": "WX3_jrx8VBIm"
   },
   "source": [
    "We're going to do a slight customization of the data, so that you every participant receives a slightly different version of the dataset. Fill in your name below as a string (enter at least 5 characters)"
   ]
  },
  {
   "cell_type": "code",
   "execution_count": null,
   "metadata": {
    "id": "lhg6uoefVBIm"
   },
   "outputs": [],
   "source": [
    "your_name = \"Medha\" # at least 5 characters"
   ]
  },
  {
   "cell_type": "markdown",
   "metadata": {
    "id": "XVAp_xJWVBIn"
   },
   "source": [
    "The `customize_dataset` function will customize the dataset slightly using your name as a source of random numbers."
   ]
  },
  {
   "cell_type": "code",
   "execution_count": null,
   "metadata": {
    "id": "eqyKdsUOVBIn"
   },
   "outputs": [],
   "source": [
    "def customize_dataset(dataframe_raw, rand_str):\n",
    "    dataframe = dataframe_raw.copy(deep=True)\n",
    "    # drop some rows\n",
    "    dataframe = dataframe.sample(int(0.95*len(dataframe)), random_state=int(ord(rand_str[0])))\n",
    "    # scale input\n",
    "    dataframe.bmi = dataframe.bmi * ord(rand_str[1])/100.\n",
    "    # scale target\n",
    "    dataframe.charges = dataframe.charges * ord(rand_str[2])/100.\n",
    "    # drop column\n",
    "    if ord(rand_str[3]) % 2 == 1:\n",
    "        dataframe = dataframe.drop(['region'], axis=1)\n",
    "    return dataframe"
   ]
  },
  {
   "cell_type": "code",
   "execution_count": null,
   "metadata": {
    "colab": {
     "base_uri": "https://localhost:8080/",
     "height": 195
    },
    "executionInfo": {
     "elapsed": 981,
     "status": "ok",
     "timestamp": 1609326938410,
     "user": {
      "displayName": "Medha Mathur",
      "photoUrl": "https://lh3.googleusercontent.com/a-/AOh14GhU5rpc98_bHp-wBsi8gjk3rfPBSk5rV-xSzpRV=s64",
      "userId": "09694216789696746072"
     },
     "user_tz": -330
    },
    "id": "1IAIWVNjVBIo",
    "outputId": "dee1a7f5-4dd2-4b5f-d15c-63be80ed9d5d"
   },
   "outputs": [
    {
     "data": {
      "text/html": [
       "<div>\n",
       "<style scoped>\n",
       "    .dataframe tbody tr th:only-of-type {\n",
       "        vertical-align: middle;\n",
       "    }\n",
       "\n",
       "    .dataframe tbody tr th {\n",
       "        vertical-align: top;\n",
       "    }\n",
       "\n",
       "    .dataframe thead th {\n",
       "        text-align: right;\n",
       "    }\n",
       "</style>\n",
       "<table border=\"1\" class=\"dataframe\">\n",
       "  <thead>\n",
       "    <tr style=\"text-align: right;\">\n",
       "      <th></th>\n",
       "      <th>age</th>\n",
       "      <th>sex</th>\n",
       "      <th>bmi</th>\n",
       "      <th>children</th>\n",
       "      <th>smoker</th>\n",
       "      <th>region</th>\n",
       "      <th>charges</th>\n",
       "    </tr>\n",
       "  </thead>\n",
       "  <tbody>\n",
       "    <tr>\n",
       "      <th>27</th>\n",
       "      <td>55</td>\n",
       "      <td>female</td>\n",
       "      <td>33.10275</td>\n",
       "      <td>2</td>\n",
       "      <td>no</td>\n",
       "      <td>northwest</td>\n",
       "      <td>12268.63225</td>\n",
       "    </tr>\n",
       "    <tr>\n",
       "      <th>38</th>\n",
       "      <td>35</td>\n",
       "      <td>male</td>\n",
       "      <td>37.03670</td>\n",
       "      <td>1</td>\n",
       "      <td>yes</td>\n",
       "      <td>northeast</td>\n",
       "      <td>39774.27630</td>\n",
       "    </tr>\n",
       "    <tr>\n",
       "      <th>441</th>\n",
       "      <td>33</td>\n",
       "      <td>female</td>\n",
       "      <td>33.83500</td>\n",
       "      <td>0</td>\n",
       "      <td>yes</td>\n",
       "      <td>southwest</td>\n",
       "      <td>37079.37200</td>\n",
       "    </tr>\n",
       "    <tr>\n",
       "      <th>1068</th>\n",
       "      <td>63</td>\n",
       "      <td>male</td>\n",
       "      <td>21.87660</td>\n",
       "      <td>1</td>\n",
       "      <td>no</td>\n",
       "      <td>northwest</td>\n",
       "      <td>14349.85440</td>\n",
       "    </tr>\n",
       "    <tr>\n",
       "      <th>1310</th>\n",
       "      <td>42</td>\n",
       "      <td>male</td>\n",
       "      <td>26.57815</td>\n",
       "      <td>1</td>\n",
       "      <td>no</td>\n",
       "      <td>northwest</td>\n",
       "      <td>6940.90985</td>\n",
       "    </tr>\n",
       "  </tbody>\n",
       "</table>\n",
       "</div>"
      ],
      "text/plain": [
       "      age     sex       bmi  children smoker     region      charges\n",
       "27     55  female  33.10275         2     no  northwest  12268.63225\n",
       "38     35    male  37.03670         1    yes  northeast  39774.27630\n",
       "441    33  female  33.83500         0    yes  southwest  37079.37200\n",
       "1068   63    male  21.87660         1     no  northwest  14349.85440\n",
       "1310   42    male  26.57815         1     no  northwest   6940.90985"
      ]
     },
     "execution_count": 11,
     "metadata": {
      "tags": []
     },
     "output_type": "execute_result"
    }
   ],
   "source": [
    "dataframe = customize_dataset(dataframe_raw, your_name)\n",
    "dataframe.head()"
   ]
  },
  {
   "cell_type": "markdown",
   "metadata": {
    "id": "RyvWexOYVBIo"
   },
   "source": [
    "Let us answer some basic questions about the dataset. \n",
    "\n",
    "\n",
    "**Q: How many rows does the dataset have?**"
   ]
  },
  {
   "cell_type": "code",
   "execution_count": null,
   "metadata": {
    "colab": {
     "base_uri": "https://localhost:8080/"
    },
    "executionInfo": {
     "elapsed": 1094,
     "status": "ok",
     "timestamp": 1609326943333,
     "user": {
      "displayName": "Medha Mathur",
      "photoUrl": "https://lh3.googleusercontent.com/a-/AOh14GhU5rpc98_bHp-wBsi8gjk3rfPBSk5rV-xSzpRV=s64",
      "userId": "09694216789696746072"
     },
     "user_tz": -330
    },
    "id": "oy2DKpOEVBIo",
    "outputId": "affcffca-6b3c-4bcc-92b4-8cc51ab74f13"
   },
   "outputs": [
    {
     "name": "stdout",
     "output_type": "stream",
     "text": [
      "1271\n"
     ]
    }
   ],
   "source": [
    "num_rows = dataframe.shape[0]\n",
    "print(num_rows)"
   ]
  },
  {
   "cell_type": "markdown",
   "metadata": {
    "id": "HAENEVg6VBIp"
   },
   "source": [
    "**Q: How many columns doe the dataset have**"
   ]
  },
  {
   "cell_type": "code",
   "execution_count": null,
   "metadata": {
    "colab": {
     "base_uri": "https://localhost:8080/"
    },
    "executionInfo": {
     "elapsed": 1042,
     "status": "ok",
     "timestamp": 1609326955747,
     "user": {
      "displayName": "Medha Mathur",
      "photoUrl": "https://lh3.googleusercontent.com/a-/AOh14GhU5rpc98_bHp-wBsi8gjk3rfPBSk5rV-xSzpRV=s64",
      "userId": "09694216789696746072"
     },
     "user_tz": -330
    },
    "id": "SJhvKBs7VBIr",
    "outputId": "5a8fbb85-d9a8-4dcb-d152-097c0aafcf24"
   },
   "outputs": [
    {
     "name": "stdout",
     "output_type": "stream",
     "text": [
      "7\n"
     ]
    }
   ],
   "source": [
    "num_cols = dataframe.shape[1]\n",
    "print(num_cols)"
   ]
  },
  {
   "cell_type": "markdown",
   "metadata": {
    "id": "yVqCK87NVBIt"
   },
   "source": [
    "**Q: What are the column titles of the input variables?**"
   ]
  },
  {
   "cell_type": "code",
   "execution_count": null,
   "metadata": {
    "colab": {
     "base_uri": "https://localhost:8080/"
    },
    "executionInfo": {
     "elapsed": 1066,
     "status": "ok",
     "timestamp": 1609326973239,
     "user": {
      "displayName": "Medha Mathur",
      "photoUrl": "https://lh3.googleusercontent.com/a-/AOh14GhU5rpc98_bHp-wBsi8gjk3rfPBSk5rV-xSzpRV=s64",
      "userId": "09694216789696746072"
     },
     "user_tz": -330
    },
    "id": "zCGAaIalVBIt",
    "outputId": "ac676a8c-7292-4524-cbcc-6513268d3c9e"
   },
   "outputs": [
    {
     "name": "stdout",
     "output_type": "stream",
     "text": [
      "['age', 'sex', 'bmi', 'children', 'smoker', 'region']\n"
     ]
    }
   ],
   "source": [
    "input_cols = list(dataframe.columns)[:-1]\r\n",
    "print(input_cols)"
   ]
  },
  {
   "cell_type": "markdown",
   "metadata": {
    "id": "2XyB_PnNVBIu"
   },
   "source": [
    "**Q: Which of the input columns are non-numeric or categorial variables ?**\n",
    "\n",
    "Hint: `sex` is one of them. List the columns that are not numbers."
   ]
  },
  {
   "cell_type": "code",
   "execution_count": null,
   "metadata": {
    "colab": {
     "base_uri": "https://localhost:8080/"
    },
    "executionInfo": {
     "elapsed": 1037,
     "status": "ok",
     "timestamp": 1609326978779,
     "user": {
      "displayName": "Medha Mathur",
      "photoUrl": "https://lh3.googleusercontent.com/a-/AOh14GhU5rpc98_bHp-wBsi8gjk3rfPBSk5rV-xSzpRV=s64",
      "userId": "09694216789696746072"
     },
     "user_tz": -330
    },
    "id": "YPldG-8nVBIu",
    "outputId": "9bf5c021-5590-4a9a-cf58-6e95f26342eb"
   },
   "outputs": [
    {
     "name": "stdout",
     "output_type": "stream",
     "text": [
      "['sex', 'smoker', 'region']\n"
     ]
    }
   ],
   "source": [
    "categorical_cols = list(dataframe.select_dtypes(exclude=['float64','int64']).columns)\r\n",
    "print(categorical_cols)"
   ]
  },
  {
   "cell_type": "markdown",
   "metadata": {
    "id": "6woVpwtOVBIv"
   },
   "source": [
    "**Q: What are the column titles of output/target variable(s)?**"
   ]
  },
  {
   "cell_type": "code",
   "execution_count": null,
   "metadata": {
    "colab": {
     "base_uri": "https://localhost:8080/"
    },
    "executionInfo": {
     "elapsed": 1059,
     "status": "ok",
     "timestamp": 1609326982283,
     "user": {
      "displayName": "Medha Mathur",
      "photoUrl": "https://lh3.googleusercontent.com/a-/AOh14GhU5rpc98_bHp-wBsi8gjk3rfPBSk5rV-xSzpRV=s64",
      "userId": "09694216789696746072"
     },
     "user_tz": -330
    },
    "id": "q2vab9NrVBIv",
    "outputId": "1fb7e21b-5f3c-4ba2-dd6f-71f8de910cd0"
   },
   "outputs": [
    {
     "name": "stdout",
     "output_type": "stream",
     "text": [
      "['charges']\n"
     ]
    }
   ],
   "source": [
    "output_cols = [list(dataframe.columns).pop()]\r\n",
    "print(output_cols)"
   ]
  },
  {
   "cell_type": "markdown",
   "metadata": {
    "id": "XLAZi6N6VBIv"
   },
   "source": [
    "**Q: (Optional) What is the minimum, maximum and average value of the `charges` column? Can you show the distribution of values in a graph?**\n",
    "Use this data visualization cheatsheet for referece: https://jovian.ml/aakashns/dataviz-cheatsheet"
   ]
  },
  {
   "cell_type": "code",
   "execution_count": null,
   "metadata": {
    "colab": {
     "base_uri": "https://localhost:8080/",
     "height": 284
    },
    "executionInfo": {
     "elapsed": 1186,
     "status": "ok",
     "timestamp": 1609326999003,
     "user": {
      "displayName": "Medha Mathur",
      "photoUrl": "https://lh3.googleusercontent.com/a-/AOh14GhU5rpc98_bHp-wBsi8gjk3rfPBSk5rV-xSzpRV=s64",
      "userId": "09694216789696746072"
     },
     "user_tz": -330
    },
    "id": "tfbd-hhqVBIw",
    "outputId": "06e0eb80-a436-42da-d877-7b0b24f2cc71"
   },
   "outputs": [
    {
     "data": {
      "text/html": [
       "<div>\n",
       "<style scoped>\n",
       "    .dataframe tbody tr th:only-of-type {\n",
       "        vertical-align: middle;\n",
       "    }\n",
       "\n",
       "    .dataframe tbody tr th {\n",
       "        vertical-align: top;\n",
       "    }\n",
       "\n",
       "    .dataframe thead th {\n",
       "        text-align: right;\n",
       "    }\n",
       "</style>\n",
       "<table border=\"1\" class=\"dataframe\">\n",
       "  <thead>\n",
       "    <tr style=\"text-align: right;\">\n",
       "      <th></th>\n",
       "      <th>charges</th>\n",
       "    </tr>\n",
       "  </thead>\n",
       "  <tbody>\n",
       "    <tr>\n",
       "      <th>count</th>\n",
       "      <td>1271.000000</td>\n",
       "    </tr>\n",
       "    <tr>\n",
       "      <th>mean</th>\n",
       "      <td>13263.626279</td>\n",
       "    </tr>\n",
       "    <tr>\n",
       "      <th>std</th>\n",
       "      <td>12127.139122</td>\n",
       "    </tr>\n",
       "    <tr>\n",
       "      <th>min</th>\n",
       "      <td>1121.873900</td>\n",
       "    </tr>\n",
       "    <tr>\n",
       "      <th>25%</th>\n",
       "      <td>4719.630300</td>\n",
       "    </tr>\n",
       "    <tr>\n",
       "      <th>50%</th>\n",
       "      <td>9301.893550</td>\n",
       "    </tr>\n",
       "    <tr>\n",
       "      <th>75%</th>\n",
       "      <td>16681.400880</td>\n",
       "    </tr>\n",
       "    <tr>\n",
       "      <th>max</th>\n",
       "      <td>63770.428010</td>\n",
       "    </tr>\n",
       "  </tbody>\n",
       "</table>\n",
       "</div>"
      ],
      "text/plain": [
       "            charges\n",
       "count   1271.000000\n",
       "mean   13263.626279\n",
       "std    12127.139122\n",
       "min     1121.873900\n",
       "25%     4719.630300\n",
       "50%     9301.893550\n",
       "75%    16681.400880\n",
       "max    63770.428010"
      ]
     },
     "execution_count": 17,
     "metadata": {
      "tags": []
     },
     "output_type": "execute_result"
    }
   ],
   "source": [
    "dataframe[output_cols].describe()"
   ]
  },
  {
   "cell_type": "code",
   "execution_count": null,
   "metadata": {
    "colab": {
     "base_uri": "https://localhost:8080/",
     "height": 369
    },
    "executionInfo": {
     "elapsed": 1518,
     "status": "ok",
     "timestamp": 1609327004942,
     "user": {
      "displayName": "Medha Mathur",
      "photoUrl": "https://lh3.googleusercontent.com/a-/AOh14GhU5rpc98_bHp-wBsi8gjk3rfPBSk5rV-xSzpRV=s64",
      "userId": "09694216789696746072"
     },
     "user_tz": -330
    },
    "id": "Rq8o-zvji5Xp",
    "outputId": "e89420fd-2bdc-4d1f-e385-21b7c9feb6c1"
   },
   "outputs": [
    {
     "data": {
      "image/png": "[encoded data removed]",
      "text/plain": [
       "<Figure size 360x360 with 1 Axes>"
      ]
     },
     "metadata": {
      "needs_background": "light",
      "tags": []
     },
     "output_type": "display_data"
    }
   ],
   "source": [
    "sns.displot(dataframe, x=output_cols[0]);"
   ]
  },
  {
   "cell_type": "markdown",
   "metadata": {
    "id": "LVVYQgMhVBIw"
   },
   "source": [
    "Remember to commit your notebook to Jovian after every step, so that you don't lose your work."
   ]
  },
  {
   "cell_type": "code",
   "execution_count": null,
   "metadata": {
    "id": "M7dUfZoNVBIx"
   },
   "outputs": [],
   "source": [
    "!pip install jovian --upgrade -q"
   ]
  },
  {
   "cell_type": "code",
   "execution_count": null,
   "metadata": {
    "id": "SxNGPSI5VBIx"
   },
   "outputs": [],
   "source": [
    "import jovian"
   ]
  },
  {
   "cell_type": "code",
   "execution_count": null,
   "metadata": {
    "colab": {
     "base_uri": "https://localhost:8080/",
     "height": 136
    },
    "executionInfo": {
     "elapsed": 15060,
     "status": "ok",
     "timestamp": 1609327034110,
     "user": {
      "displayName": "Medha Mathur",
      "photoUrl": "https://lh3.googleusercontent.com/a-/AOh14GhU5rpc98_bHp-wBsi8gjk3rfPBSk5rV-xSzpRV=s64",
      "userId": "09694216789696746072"
     },
     "user_tz": -330
    },
    "id": "tStfXTozVBIx",
    "outputId": "0ccb6b28-16d4-401d-980d-a9c7b691084d"
   },
   "outputs": [
    {
     "name": "stdout",
     "output_type": "stream",
     "text": [
      "[jovian] Detected Colab notebook...\u001b[0m\n",
      "[jovian] Please enter your API key ( from https://jovian.ai/ ):\u001b[0m\n",
      "API KEY: ··········\n",
      "[jovian] Uploading colab notebook to Jovian...\u001b[0m\n",
      "[jovian] Capturing environment..\u001b[0m\n",
      "[jovian] Committed successfully! https://jovian.ai/medhamathur27/02-insurance-linear-regression\u001b[0m\n"
     ]
    },
    {
     "data": {
      "application/vnd.google.colaboratory.intrinsic+json": {
       "type": "string"
      },
      "text/plain": [
       "'https://jovian.ai/medhamathur27/02-insurance-linear-regression'"
      ]
     },
     "execution_count": 21,
     "metadata": {
      "tags": []
     },
     "output_type": "execute_result"
    }
   ],
   "source": [
    "jovian.commit(project=project_name)"
   ]
  },
  {
   "cell_type": "markdown",
   "metadata": {
    "id": "-DOqIz4zVBIy"
   },
   "source": [
    "## Step 2: Prepare the dataset for training\n",
    "\n",
    "We need to convert the data from the Pandas dataframe into a PyTorch tensors for training. To do this, the first step is to convert it numpy arrays. If you've filled out `input_cols`, `categorial_cols` and `output_cols` correctly, this following function will perform the conversion to numpy arrays."
   ]
  },
  {
   "cell_type": "code",
   "execution_count": null,
   "metadata": {
    "id": "0-Vg7cTNVBIy"
   },
   "outputs": [],
   "source": [
    "def dataframe_to_arrays(dataframe):\n",
    "    # Make a copy of the original dataframe\n",
    "    dataframe1 = dataframe.copy(deep=True)\n",
    "    # Convert non-numeric categorical columns to numbers\n",
    "    for col in categorical_cols:\n",
    "        dataframe1[col] = dataframe1[col].astype('category').cat.codes\n",
    "    # Extract input & outupts as numpy arrays\n",
    "    inputs_array = dataframe1[input_cols].to_numpy()\n",
    "    targets_array = dataframe1[output_cols].to_numpy()\n",
    "    return inputs_array, targets_array"
   ]
  },
  {
   "cell_type": "markdown",
   "metadata": {
    "id": "3yAzwr7yVBI0"
   },
   "source": [
    "Read through the [Pandas documentation](https://pandas.pydata.org/pandas-docs/stable/user_guide/categorical.html) to understand how we're converting categorical variables into numbers."
   ]
  },
  {
   "cell_type": "code",
   "execution_count": null,
   "metadata": {
    "colab": {
     "base_uri": "https://localhost:8080/"
    },
    "executionInfo": {
     "elapsed": 1002,
     "status": "ok",
     "timestamp": 1609327047499,
     "user": {
      "displayName": "Medha Mathur",
      "photoUrl": "https://lh3.googleusercontent.com/a-/AOh14GhU5rpc98_bHp-wBsi8gjk3rfPBSk5rV-xSzpRV=s64",
      "userId": "09694216789696746072"
     },
     "user_tz": -330
    },
    "id": "urTg5TDrVBI0",
    "outputId": "c58a4a0f-866c-479e-dc73-85bc6d7ccb59"
   },
   "outputs": [
    {
     "data": {
      "text/plain": [
       "(array([[55.     ,  0.     , 33.10275,  2.     ,  0.     ,  1.     ],\n",
       "        [35.     ,  1.     , 37.0367 ,  1.     ,  1.     ,  0.     ],\n",
       "        [33.     ,  0.     , 33.835  ,  0.     ,  1.     ,  3.     ],\n",
       "        ...,\n",
       "        [29.     ,  1.     , 37.6629 ,  2.     ,  0.     ,  2.     ],\n",
       "        [26.     ,  1.     , 23.937  ,  2.     ,  0.     ,  3.     ],\n",
       "        [18.     ,  0.     , 32.2392 ,  0.     ,  0.     ,  0.     ]]),\n",
       " array([[12268.63225],\n",
       "        [39774.2763 ],\n",
       "        [37079.372  ],\n",
       "        ...,\n",
       "        [ 4058.1161 ],\n",
       "        [ 3484.331  ],\n",
       "        [ 2205.9808 ]]))"
      ]
     },
     "execution_count": 23,
     "metadata": {
      "tags": []
     },
     "output_type": "execute_result"
    }
   ],
   "source": [
    "inputs_array, targets_array = dataframe_to_arrays(dataframe)\n",
    "inputs_array, targets_array"
   ]
  },
  {
   "cell_type": "markdown",
   "metadata": {
    "id": "tcrqN5w-VBI0"
   },
   "source": [
    "**Q: Convert the numpy arrays `inputs_array` and `targets_array` into PyTorch tensors. Make sure that the data type is `torch.float32`.**"
   ]
  },
  {
   "cell_type": "code",
   "execution_count": null,
   "metadata": {
    "id": "HFdTkwjWVBI1"
   },
   "outputs": [],
   "source": [
    "inputs = torch.from_numpy(inputs_array).type(torch.float32)\n",
    "targets = torch.from_numpy(targets_array).type(torch.float32)"
   ]
  },
  {
   "cell_type": "code",
   "execution_count": null,
   "metadata": {
    "colab": {
     "base_uri": "https://localhost:8080/"
    },
    "executionInfo": {
     "elapsed": 1152,
     "status": "ok",
     "timestamp": 1609327082237,
     "user": {
      "displayName": "Medha Mathur",
      "photoUrl": "https://lh3.googleusercontent.com/a-/AOh14GhU5rpc98_bHp-wBsi8gjk3rfPBSk5rV-xSzpRV=s64",
      "userId": "09694216789696746072"
     },
     "user_tz": -330
    },
    "id": "AV2nw22NVBI1",
    "outputId": "e450fc99-9d5e-4d44-827c-14684b1b0f11"
   },
   "outputs": [
    {
     "data": {
      "text/plain": [
       "(torch.float32, torch.float32)"
      ]
     },
     "execution_count": 25,
     "metadata": {
      "tags": []
     },
     "output_type": "execute_result"
    }
   ],
   "source": [
    "inputs.dtype, targets.dtype"
   ]
  },
  {
   "cell_type": "markdown",
   "metadata": {
    "id": "PRbJfQeaVBI2"
   },
   "source": [
    "Next, we need to create PyTorch datasets & data loaders for training & validation. We'll start by creating a `TensorDataset`."
   ]
  },
  {
   "cell_type": "code",
   "execution_count": null,
   "metadata": {
    "id": "nQOrKIRzVBI2"
   },
   "outputs": [],
   "source": [
    "dataset = TensorDataset(inputs, targets)"
   ]
  },
  {
   "cell_type": "markdown",
   "metadata": {
    "id": "0QVHYuU-VBI3"
   },
   "source": [
    "**Q: Pick a number between `0.1` and `0.2` to determine the fraction of data that will be used for creating the validation set. Then use `random_split` to create training & validation datasets.**"
   ]
  },
  {
   "cell_type": "code",
   "execution_count": null,
   "metadata": {
    "id": "O6qoCmbGVBI3"
   },
   "outputs": [],
   "source": [
    "import random\n",
    "val_percent = 0.12 # between 0.1 and 0.2\n",
    "val_size = int(num_rows * val_percent)\n",
    "train_size = num_rows - val_size\n",
    "\n",
    "\n",
    "train_ds, val_ds = random_split(dataset,[train_size,val_size])"
   ]
  },
  {
   "cell_type": "markdown",
   "metadata": {
    "id": "GcYBygKLVBI4"
   },
   "source": [
    "Finally, we can create data loaders for training & validation.\n",
    "\n",
    "**Q: Pick a batch size for the data loader.**"
   ]
  },
  {
   "cell_type": "code",
   "execution_count": null,
   "metadata": {
    "id": "5QMrGesxVBI4"
   },
   "outputs": [],
   "source": [
    "batch_size = 100"
   ]
  },
  {
   "cell_type": "code",
   "execution_count": null,
   "metadata": {
    "id": "ETwTwt78VBI4"
   },
   "outputs": [],
   "source": [
    "train_loader = DataLoader(train_ds, batch_size, shuffle=True)\n",
    "val_loader = DataLoader(val_ds, batch_size)"
   ]
  },
  {
   "cell_type": "markdown",
   "metadata": {
    "id": "R9hy2ZCVVBI5"
   },
   "source": [
    "Let's look at a batch of data to verify everything is working fine so far."
   ]
  },
  {
   "cell_type": "code",
   "execution_count": null,
   "metadata": {
    "colab": {
     "base_uri": "https://localhost:8080/"
    },
    "executionInfo": {
     "elapsed": 1054,
     "status": "ok",
     "timestamp": 1609341329690,
     "user": {
      "displayName": "Medha Mathur",
      "photoUrl": "https://lh3.googleusercontent.com/a-/AOh14GhU5rpc98_bHp-wBsi8gjk3rfPBSk5rV-xSzpRV=s64",
      "userId": "09694216789696746072"
     },
     "user_tz": -330
    },
    "id": "l2XEPyrfVBI5",
    "outputId": "7cf8d114-962b-4ef2-bca7-448b97cebb33"
   },
   "outputs": [
    {
     "name": "stdout",
     "output_type": "stream",
     "text": [
      "inputs: tensor([[57.0000,  1.0000, 40.6828,  0.0000,  0.0000,  0.0000],\n",
      "        [35.0000,  0.0000, 36.1731,  1.0000,  0.0000,  1.0000],\n",
      "        [31.0000,  0.0000, 26.0580,  2.0000,  0.0000,  3.0000],\n",
      "        [64.0000,  1.0000, 34.8450,  0.0000,  0.0000,  3.0000],\n",
      "        [28.0000,  1.0000, 29.5526,  2.0000,  0.0000,  0.0000],\n",
      "        [58.0000,  0.0000, 42.3291,  0.0000,  0.0000,  2.0000],\n",
      "        [18.0000,  0.0000, 33.4865,  0.0000,  0.0000,  0.0000],\n",
      "        [52.0000,  0.0000, 25.5530,  2.0000,  1.0000,  2.0000],\n",
      "        [60.0000,  0.0000, 18.5184,  0.0000,  0.0000,  0.0000],\n",
      "        [37.0000,  1.0000, 28.3053,  2.0000,  0.0000,  1.0000],\n",
      "        [44.0000,  0.0000, 38.4406,  0.0000,  1.0000,  2.0000],\n",
      "        [52.0000,  0.0000, 24.3713,  1.0000,  1.0000,  1.0000],\n",
      "        [52.0000,  1.0000, 34.8298,  3.0000,  1.0000,  1.0000],\n",
      "        [19.0000,  1.0000, 28.1133,  0.0000,  0.0000,  1.0000],\n",
      "        [47.0000,  0.0000, 24.5632,  0.0000,  0.0000,  0.0000],\n",
      "        [27.0000,  1.0000, 33.4865,  2.0000,  0.0000,  1.0000],\n",
      "        [63.0000,  1.0000, 41.8847,  0.0000,  0.0000,  2.0000],\n",
      "        [41.0000,  0.0000, 31.9513,  1.0000,  0.0000,  0.0000],\n",
      "        [52.0000,  1.0000, 37.0670,  0.0000,  0.0000,  3.0000],\n",
      "        [57.0000,  1.0000, 23.9370,  0.0000,  0.0000,  3.0000],\n",
      "        [19.0000,  0.0000, 30.7999,  0.0000,  0.0000,  1.0000],\n",
      "        [58.0000,  1.0000, 38.3800,  0.0000,  0.0000,  3.0000],\n",
      "        [24.0000,  0.0000, 34.3299,  0.0000,  0.0000,  2.0000],\n",
      "        [22.0000,  1.0000, 35.9560,  0.0000,  1.0000,  3.0000],\n",
      "        [18.0000,  1.0000, 21.9978,  2.0000,  0.0000,  2.0000],\n",
      "        [61.0000,  1.0000, 36.2186,  0.0000,  1.0000,  2.0000],\n",
      "        [20.0000,  1.0000, 30.9918,  0.0000,  1.0000,  0.0000],\n",
      "        [58.0000,  1.0000, 35.2136,  0.0000,  0.0000,  0.0000],\n",
      "        [32.0000,  0.0000, 20.7252,  0.0000,  0.0000,  0.0000],\n",
      "        [50.0000,  0.0000, 27.6336,  0.0000,  0.0000,  0.0000],\n",
      "        [24.0000,  0.0000, 24.4673,  0.0000,  0.0000,  1.0000],\n",
      "        [57.0000,  1.0000, 18.5184,  0.0000,  0.0000,  0.0000],\n",
      "        [25.0000,  0.0000, 27.0579,  2.0000,  0.0000,  1.0000],\n",
      "        [62.0000,  1.0000, 26.9620,  0.0000,  1.0000,  0.0000],\n",
      "        [34.0000,  1.0000, 42.5513,  2.0000,  0.0000,  2.0000],\n",
      "        [38.0000,  1.0000, 16.9832,  2.0000,  0.0000,  0.0000],\n",
      "        [38.0000,  1.0000, 28.1133,  2.0000,  0.0000,  1.0000],\n",
      "        [45.0000,  0.0000, 32.1079,  0.0000,  0.0000,  2.0000],\n",
      "        [48.0000,  1.0000, 29.8960,  0.0000,  0.0000,  3.0000],\n",
      "        [22.0000,  1.0000, 35.1480,  3.0000,  0.0000,  3.0000],\n",
      "        [63.0000,  0.0000, 23.3158,  0.0000,  0.0000,  0.0000],\n",
      "        [19.0000,  1.0000, 30.8959,  0.0000,  0.0000,  1.0000],\n",
      "        [57.0000,  1.0000, 34.3501,  0.0000,  0.0000,  1.0000],\n",
      "        [22.0000,  1.0000, 25.4268,  0.0000,  0.0000,  1.0000],\n",
      "        [59.0000,  0.0000, 31.6635,  0.0000,  0.0000,  1.0000],\n",
      "        [32.0000,  0.0000, 31.8554,  1.0000,  0.0000,  0.0000],\n",
      "        [23.0000,  0.0000, 43.1775,  1.0000,  1.0000,  0.0000],\n",
      "        [28.0000,  0.0000, 33.4411,  0.0000,  0.0000,  2.0000],\n",
      "        [25.0000,  0.0000, 28.8810,  0.0000,  0.0000,  0.0000],\n",
      "        [27.0000,  1.0000, 28.7850,  0.0000,  1.0000,  1.0000],\n",
      "        [51.0000,  0.0000, 37.0367,  2.0000,  0.0000,  1.0000],\n",
      "        [25.0000,  1.0000, 25.2348,  2.0000,  0.0000,  0.0000],\n",
      "        [19.0000,  1.0000, 30.5525,  0.0000,  1.0000,  2.0000],\n",
      "        [50.0000,  0.0000, 34.0370,  4.0000,  0.0000,  3.0000],\n",
      "        [28.0000,  0.0000, 26.7751,  2.0000,  0.0000,  2.0000],\n",
      "        [45.0000,  1.0000, 23.7956,  2.0000,  0.0000,  0.0000],\n",
      "        [60.0000,  0.0000, 27.8255,  0.0000,  0.0000,  0.0000],\n",
      "        [49.0000,  0.0000, 21.5130,  1.0000,  0.0000,  3.0000],\n",
      "        [35.0000,  0.0000, 23.6996,  2.0000,  0.0000,  0.0000],\n",
      "        [45.0000,  1.0000, 30.7999,  2.0000,  0.0000,  1.0000],\n",
      "        [18.0000,  1.0000, 30.4414,  0.0000,  0.0000,  2.0000],\n",
      "        [38.0000,  1.0000, 20.1495,  1.0000,  0.0000,  1.0000],\n",
      "        [40.0000,  1.0000, 34.4460,  1.0000,  0.0000,  0.0000],\n",
      "        [58.0000,  1.0000, 25.4268,  0.0000,  0.0000,  0.0000],\n",
      "        [41.0000,  0.0000, 31.3302,  0.0000,  0.0000,  2.0000],\n",
      "        [29.0000,  1.0000, 27.4720,  0.0000,  0.0000,  3.0000],\n",
      "        [64.0000,  0.0000, 40.0970,  0.0000,  0.0000,  3.0000],\n",
      "        [29.0000,  1.0000, 35.8550,  2.0000,  1.0000,  3.0000],\n",
      "        [35.0000,  0.0000, 31.3100,  1.0000,  0.0000,  3.0000],\n",
      "        [38.0000,  1.0000, 21.3312,  3.0000,  0.0000,  2.0000],\n",
      "        [29.0000,  1.0000, 32.0473,  2.0000,  0.0000,  1.0000],\n",
      "        [58.0000,  1.0000, 49.5506,  0.0000,  0.0000,  2.0000],\n",
      "        [18.0000,  0.0000, 32.2392,  0.0000,  0.0000,  0.0000],\n",
      "        [24.0000,  0.0000, 27.9972,  0.0000,  0.0000,  2.0000],\n",
      "        [47.0000,  1.0000, 36.4408,  1.0000,  1.0000,  2.0000],\n",
      "        [24.0000,  0.0000, 30.5121,  3.0000,  0.0000,  1.0000],\n",
      "        [42.0000,  0.0000, 33.4865,  1.0000,  0.0000,  0.0000],\n",
      "        [18.0000,  0.0000, 37.2185,  0.0000,  0.0000,  2.0000],\n",
      "        [18.0000,  0.0000, 27.5528,  3.0000,  1.0000,  2.0000],\n",
      "        [47.0000,  0.0000, 29.6637,  1.0000,  0.0000,  2.0000],\n",
      "        [42.0000,  1.0000, 24.8510,  2.0000,  1.0000,  0.0000],\n",
      "        [57.0000,  1.0000, 42.5513,  1.0000,  1.0000,  2.0000],\n",
      "        [18.0000,  1.0000, 39.5314,  0.0000,  0.0000,  0.0000],\n",
      "        [26.0000,  0.0000, 19.9980,  1.0000,  0.0000,  3.0000],\n",
      "        [39.0000,  0.0000, 23.5077,  3.0000,  0.0000,  0.0000],\n",
      "        [55.0000,  0.0000, 27.0680,  1.0000,  0.0000,  3.0000],\n",
      "        [19.0000,  0.0000, 24.9470,  0.0000,  0.0000,  3.0000],\n",
      "        [19.0000,  0.0000, 32.4311,  0.0000,  0.0000,  1.0000],\n",
      "        [61.0000,  1.0000, 43.8340,  0.0000,  0.0000,  3.0000],\n",
      "        [46.0000,  1.0000, 22.5230,  0.0000,  0.0000,  3.0000],\n",
      "        [33.0000,  0.0000, 28.5527,  1.0000,  0.0000,  2.0000],\n",
      "        [29.0000,  0.0000, 25.8560,  4.0000,  0.0000,  3.0000],\n",
      "        [48.0000,  1.0000, 35.9813,  4.0000,  0.0000,  0.0000],\n",
      "        [41.0000,  1.0000, 29.9364,  5.0000,  0.0000,  0.0000],\n",
      "        [46.0000,  1.0000, 39.8192,  1.0000,  0.0000,  0.0000],\n",
      "        [51.0000,  1.0000, 33.6633,  3.0000,  0.0000,  2.0000],\n",
      "        [29.0000,  1.0000, 22.7402,  3.0000,  0.0000,  0.0000],\n",
      "        [55.0000,  1.0000, 37.6730,  0.0000,  0.0000,  3.0000],\n",
      "        [40.0000,  1.0000, 31.1838,  4.0000,  0.0000,  1.0000],\n",
      "        [52.0000,  0.0000, 31.0878,  1.0000,  0.0000,  0.0000]])\n",
      "targets: tensor([[20709.0195],\n",
      "        [ 5630.4580],\n",
      "        [ 4934.7051],\n",
      "        [13822.8027],\n",
      "        [ 4438.2632],\n",
      "        [24227.3379],\n",
      "        [ 2207.6975],\n",
      "        [24667.4199],\n",
      "        [13204.2861],\n",
      "        [ 6203.9019],\n",
      "        [48885.1367],\n",
      "        [23887.6621],\n",
      "        [60021.3984],\n",
      "        [ 1635.7336],\n",
      "        [ 8534.6719],\n",
      "        [ 4058.7124],\n",
      "        [13405.3906],\n",
      "        [ 7358.1758],\n",
      "        [ 9144.5654],\n",
      "        [10959.3301],\n",
      "        [ 2128.4312],\n",
      "        [11365.9521],\n",
      "        [ 2473.3340],\n",
      "        [35585.5742],\n",
      "        [11884.0488],\n",
      "        [46599.1094],\n",
      "        [33475.8164],\n",
      "        [11944.5947],\n",
      "        [ 4544.2349],\n",
      "        [25656.5762],\n",
      "        [ 2842.7607],\n",
      "        [11534.8730],\n",
      "        [ 4189.1133],\n",
      "        [28101.3340],\n",
      "        [ 5124.1885],\n",
      "        [ 6640.5449],\n",
      "        [ 6455.8628],\n",
      "        [17929.3027],\n",
      "        [21232.1816],\n",
      "        [ 3443.0640],\n",
      "        [14451.8350],\n",
      "        [ 1639.5631],\n",
      "        [11356.6611],\n",
      "        [ 2045.6853],\n",
      "        [12622.1797],\n",
      "        [ 5148.5527],\n",
      "        [40904.1992],\n",
      "        [ 3171.6150],\n",
      "        [ 3213.6221],\n",
      "        [18310.7422],\n",
      "        [10848.1348],\n",
      "        [23241.4746],\n",
      "        [32548.3398],\n",
      "        [11299.3428],\n",
      "        [ 4340.4409],\n",
      "        [ 8603.8232],\n",
      "        [13217.0947],\n",
      "        [ 9182.1699],\n",
      "        [ 6402.2915],\n",
      "        [ 8413.4629],\n",
      "        [ 1131.5066],\n",
      "        [ 5855.9023],\n",
      "        [ 6600.2061],\n",
      "        [11931.1250],\n",
      "        [ 6185.3208],\n",
      "        [ 2866.0911],\n",
      "        [14319.0312],\n",
      "        [44585.4570],\n",
      "        [ 5240.7651],\n",
      "        [ 6652.5288],\n",
      "        [ 4433.3877],\n",
      "        [11381.3252],\n",
      "        [ 2205.9807],\n",
      "        [ 2464.6189],\n",
      "        [42211.1367],\n",
      "        [ 4618.0801],\n",
      "        [ 7639.4175],\n",
      "        [ 1629.8335],\n",
      "        [18223.4512],\n",
      "        [ 8547.6914],\n",
      "        [21259.3789],\n",
      "        [48675.5195],\n",
      "        [12890.0576],\n",
      "        [ 3378.9099],\n",
      "        [ 7986.4751],\n",
      "        [35160.1328],\n",
      "        [ 1737.3760],\n",
      "        [ 2130.6758],\n",
      "        [12574.0488],\n",
      "        [ 7147.1050],\n",
      "        [ 4779.6025],\n",
      "        [ 5708.8672],\n",
      "        [10736.8711],\n",
      "        [ 9222.4023],\n",
      "        [ 8342.9092],\n",
      "        [10560.4922],\n",
      "        [ 5209.5786],\n",
      "        [20630.2832],\n",
      "        [ 8162.7163],\n",
      "        [10797.3359]])\n"
     ]
    }
   ],
   "source": [
    "for xb, yb in train_loader:\n",
    "    print(\"inputs:\", xb)\n",
    "    print(\"targets:\", yb)\n",
    "    break"
   ]
  },
  {
   "cell_type": "markdown",
   "metadata": {
    "id": "dQhgnZraVBI6"
   },
   "source": [
    "Let's save our work by committing to Jovian."
   ]
  },
  {
   "cell_type": "code",
   "execution_count": null,
   "metadata": {
    "colab": {
     "base_uri": "https://localhost:8080/",
     "height": 102
    },
    "executionInfo": {
     "elapsed": 3393,
     "status": "ok",
     "timestamp": 1609328283527,
     "user": {
      "displayName": "Medha Mathur",
      "photoUrl": "https://lh3.googleusercontent.com/a-/AOh14GhU5rpc98_bHp-wBsi8gjk3rfPBSk5rV-xSzpRV=s64",
      "userId": "09694216789696746072"
     },
     "user_tz": -330
    },
    "id": "asXWk-S-VBI6",
    "outputId": "57239f25-33d9-48c5-d657-7e0e3f679cd1"
   },
   "outputs": [
    {
     "name": "stdout",
     "output_type": "stream",
     "text": [
      "[jovian] Detected Colab notebook...\u001b[0m\n",
      "[jovian] Uploading colab notebook to Jovian...\u001b[0m\n",
      "[jovian] Attaching records (metrics, hyperparameters, dataset etc.)\u001b[0m\n",
      "[jovian] Committed successfully! https://jovian.ai/medhamathur27/02-insurance-linear-regression\u001b[0m\n"
     ]
    },
    {
     "data": {
      "application/vnd.google.colaboratory.intrinsic+json": {
       "type": "string"
      },
      "text/plain": [
       "'https://jovian.ai/medhamathur27/02-insurance-linear-regression'"
      ]
     },
     "execution_count": 79,
     "metadata": {
      "tags": []
     },
     "output_type": "execute_result"
    }
   ],
   "source": [
    "jovian.commit(project=project_name, environment=None)"
   ]
  },
  {
   "cell_type": "markdown",
   "metadata": {
    "id": "uODCkrL1VBI8"
   },
   "source": [
    "## Step 3: Create a Linear Regression Model\n",
    "\n",
    "Our model itself is a fairly straightforward linear regression (we'll build more complex models in the next assignment). \n"
   ]
  },
  {
   "cell_type": "code",
   "execution_count": null,
   "metadata": {
    "id": "XHxgzF_fVBI9"
   },
   "outputs": [],
   "source": [
    "input_size = len(input_cols)\n",
    "output_size = len(output_cols)"
   ]
  },
  {
   "cell_type": "markdown",
   "metadata": {
    "id": "NUSR11YxVBI9"
   },
   "source": [
    "**Q: Complete the class definition below by filling out the constructor (`__init__`), `forward`, `training_step` and `validation_step` methods.**\n",
    "\n",
    "Hint: Think carefully about picking a good loss fuction (it's not cross entropy). Maybe try 2-3 of them and see which one works best. See https://pytorch.org/docs/stable/nn.functional.html#loss-functions"
   ]
  },
  {
   "cell_type": "code",
   "execution_count": null,
   "metadata": {
    "id": "lm9r_lccVBI-"
   },
   "outputs": [],
   "source": [
    "class InsuranceModel(nn.Module):\n",
    "    def __init__(self):\n",
    "        super().__init__()\n",
    "        self.linear = nn.Linear(input_size,output_size)                  # fill this (hint: use input_size & output_size defined above)\n",
    "        \n",
    "    def forward(self, xb):\n",
    "        out = self.linear(xb)                        # fill this\n",
    "        return out\n",
    "    \n",
    "    def training_step(self, batch):\n",
    "        inputs, targets = batch \n",
    "        # Generate predictions\n",
    "        out = self(inputs)          \n",
    "        # Calcuate loss\n",
    "        loss = F.l1_loss(out,targets)                          # fill this\n",
    "        return loss\n",
    "    \n",
    "    def validation_step(self, batch):\n",
    "        inputs, targets = batch\n",
    "        # Generate predictions\n",
    "        out = self(inputs)\n",
    "        # Calculate loss\n",
    "        loss = F.l1_loss(out,targets)                            # fill this    \n",
    "        return {'val_loss': loss.detach()}\n",
    "        \n",
    "    def validation_epoch_end(self, outputs):\n",
    "        batch_losses = [x['val_loss'] for x in outputs]\n",
    "        epoch_loss = torch.stack(batch_losses).mean()   # Combine losses\n",
    "        return {'val_loss': epoch_loss.item()}\n",
    "    \n",
    "    def epoch_end(self, epoch, result, num_epochs):\n",
    "        # Print result every 20th epoch\n",
    "        if (epoch+1) % 1000 == 0 or epoch == num_epochs-1:\n",
    "            print(\"Epoch [{}], val_loss: {:.4f}\".format(epoch+1, result['val_loss']))"
   ]
  },
  {
   "cell_type": "markdown",
   "metadata": {
    "id": "Irt0cAaZVBI-"
   },
   "source": [
    "Let us create a model using the `InsuranceModel` class. You may need to come back later and re-run the next cell to reinitialize the model, in case the loss becomes `nan` or `infinity`."
   ]
  },
  {
   "cell_type": "code",
   "execution_count": null,
   "metadata": {
    "id": "o5JUAU5tVBI_"
   },
   "outputs": [],
   "source": [
    "model = InsuranceModel()"
   ]
  },
  {
   "cell_type": "markdown",
   "metadata": {
    "id": "cF2U4YzFVBJA"
   },
   "source": [
    "Let's check out the weights and biases of the model using `model.parameters`."
   ]
  },
  {
   "cell_type": "code",
   "execution_count": null,
   "metadata": {
    "colab": {
     "base_uri": "https://localhost:8080/"
    },
    "executionInfo": {
     "elapsed": 1184,
     "status": "ok",
     "timestamp": 1609341347015,
     "user": {
      "displayName": "Medha Mathur",
      "photoUrl": "https://lh3.googleusercontent.com/a-/AOh14GhU5rpc98_bHp-wBsi8gjk3rfPBSk5rV-xSzpRV=s64",
      "userId": "09694216789696746072"
     },
     "user_tz": -330
    },
    "id": "kc_OFUJ9VBJA",
    "outputId": "73ed1f14-1ae3-4907-f1af-12d04f3dce7e"
   },
   "outputs": [
    {
     "data": {
      "text/plain": [
       "[Parameter containing:\n",
       " tensor([[ 0.1833,  0.2625,  0.3223, -0.0302,  0.3349, -0.2965]],\n",
       "        requires_grad=True), Parameter containing:\n",
       " tensor([0.1010], requires_grad=True)]"
      ]
     },
     "execution_count": 344,
     "metadata": {
      "tags": []
     },
     "output_type": "execute_result"
    }
   ],
   "source": [
    "list(model.parameters())"
   ]
  },
  {
   "cell_type": "markdown",
   "metadata": {
    "id": "PVbKmAE1VBJA"
   },
   "source": [
    "One final commit before we train the model."
   ]
  },
  {
   "cell_type": "code",
   "execution_count": null,
   "metadata": {
    "colab": {
     "base_uri": "https://localhost:8080/",
     "height": 102
    },
    "executionInfo": {
     "elapsed": 2798,
     "status": "ok",
     "timestamp": 1609328299078,
     "user": {
      "displayName": "Medha Mathur",
      "photoUrl": "https://lh3.googleusercontent.com/a-/AOh14GhU5rpc98_bHp-wBsi8gjk3rfPBSk5rV-xSzpRV=s64",
      "userId": "09694216789696746072"
     },
     "user_tz": -330
    },
    "id": "AfemL_j5VBJA",
    "outputId": "002e2437-88bc-4428-d786-28951ef7d55a"
   },
   "outputs": [
    {
     "name": "stdout",
     "output_type": "stream",
     "text": [
      "[jovian] Detected Colab notebook...\u001b[0m\n",
      "[jovian] Uploading colab notebook to Jovian...\u001b[0m\n",
      "[jovian] Attaching records (metrics, hyperparameters, dataset etc.)\u001b[0m\n",
      "[jovian] Committed successfully! https://jovian.ai/medhamathur27/02-insurance-linear-regression\u001b[0m\n"
     ]
    },
    {
     "data": {
      "application/vnd.google.colaboratory.intrinsic+json": {
       "type": "string"
      },
      "text/plain": [
       "'https://jovian.ai/medhamathur27/02-insurance-linear-regression'"
      ]
     },
     "execution_count": 83,
     "metadata": {
      "tags": []
     },
     "output_type": "execute_result"
    }
   ],
   "source": [
    "jovian.commit(project=project_name, environment=None)"
   ]
  },
  {
   "cell_type": "markdown",
   "metadata": {
    "id": "v4lv8Ri_VBJB"
   },
   "source": [
    "## Step 4: Train the model to fit the data\n",
    "\n",
    "To train our model, we'll use the same `fit` function explained in the lecture. That's the benefit of defining a generic training loop - you can use it for any problem."
   ]
  },
  {
   "cell_type": "code",
   "execution_count": null,
   "metadata": {
    "id": "n1wQDPQwVBJB"
   },
   "outputs": [],
   "source": [
    "def evaluate(model, val_loader):\n",
    "    outputs = [model.validation_step(batch) for batch in val_loader]\n",
    "    return model.validation_epoch_end(outputs)\n",
    "\n",
    "def fit(epochs, lr, model, train_loader, val_loader, opt_func=torch.optim.SGD):\n",
    "    history = []\n",
    "    optimizer = opt_func(model.parameters(), lr)\n",
    "    for epoch in range(epochs):\n",
    "        # Training Phase \n",
    "        for batch in train_loader:\n",
    "            loss = model.training_step(batch)\n",
    "            loss.backward()\n",
    "            optimizer.step()\n",
    "            optimizer.zero_grad()\n",
    "        # Validation phase\n",
    "        result = evaluate(model, val_loader)\n",
    "        model.epoch_end(epoch, result, epochs)\n",
    "        history.append(result)\n",
    "    return history"
   ]
  },
  {
   "cell_type": "markdown",
   "metadata": {
    "id": "3Sd0vwhNVBJB"
   },
   "source": [
    "**Q: Use the `evaluate` function to calculate the loss on the validation set before training.**"
   ]
  },
  {
   "cell_type": "code",
   "execution_count": null,
   "metadata": {
    "colab": {
     "base_uri": "https://localhost:8080/"
    },
    "executionInfo": {
     "elapsed": 1047,
     "status": "ok",
     "timestamp": 1609341354197,
     "user": {
      "displayName": "Medha Mathur",
      "photoUrl": "https://lh3.googleusercontent.com/a-/AOh14GhU5rpc98_bHp-wBsi8gjk3rfPBSk5rV-xSzpRV=s64",
      "userId": "09694216789696746072"
     },
     "user_tz": -330
    },
    "id": "DZlwkgrHVBJB",
    "outputId": "4b07f048-4a58-4235-d798-9efab56b8b5b"
   },
   "outputs": [
    {
     "name": "stdout",
     "output_type": "stream",
     "text": [
      "{'val_loss': 11852.8515625}\n"
     ]
    }
   ],
   "source": [
    "result = evaluate(model, val_loader) # Use the the evaluate function\n",
    "print(result)"
   ]
  },
  {
   "cell_type": "markdown",
   "metadata": {
    "id": "wovteONNVBJE"
   },
   "source": [
    "\n",
    "We are now ready to train the model. You may need to run the training loop many times, for different number of epochs and with different learning rates, to get a good result. Also, if your loss becomes too large (or `nan`), you may have to re-initialize the model by running the cell `model = InsuranceModel()`. Experiment with this for a while, and try to get to as low a loss as possible."
   ]
  },
  {
   "cell_type": "markdown",
   "metadata": {
    "id": "2mFs1gNqVBJF"
   },
   "source": [
    "**Q: Train the model 4-5 times with different learning rates & for different number of epochs.**\n",
    "\n",
    "Hint: Vary learning rates by orders of 10 (e.g. `1e-2`, `1e-3`, `1e-4`, `1e-5`, `1e-6`) to figure out what works."
   ]
  },
  {
   "cell_type": "code",
   "execution_count": null,
   "metadata": {
    "colab": {
     "base_uri": "https://localhost:8080/"
    },
    "executionInfo": {
     "elapsed": 16836,
     "status": "ok",
     "timestamp": 1609341373988,
     "user": {
      "displayName": "Medha Mathur",
      "photoUrl": "https://lh3.googleusercontent.com/a-/AOh14GhU5rpc98_bHp-wBsi8gjk3rfPBSk5rV-xSzpRV=s64",
      "userId": "09694216789696746072"
     },
     "user_tz": -330
    },
    "id": "wkNWKj82VBJF",
    "outputId": "b0f4b051-1df3-455e-ba52-bb50ce317667"
   },
   "outputs": [
    {
     "name": "stdout",
     "output_type": "stream",
     "text": [
      "Epoch [1000], val_loss: 5292.9209\n"
     ]
    }
   ],
   "source": [
    "epochs = 1000\n",
    "lr = 1e-1\n",
    "history1 = fit(epochs, lr, model, train_loader, val_loader)"
   ]
  },
  {
   "cell_type": "code",
   "execution_count": null,
   "metadata": {
    "colab": {
     "base_uri": "https://localhost:8080/"
    },
    "executionInfo": {
     "elapsed": 79621,
     "status": "ok",
     "timestamp": 1609341458355,
     "user": {
      "displayName": "Medha Mathur",
      "photoUrl": "https://lh3.googleusercontent.com/a-/AOh14GhU5rpc98_bHp-wBsi8gjk3rfPBSk5rV-xSzpRV=s64",
      "userId": "09694216789696746072"
     },
     "user_tz": -330
    },
    "id": "Ek1YXR53VBJF",
    "outputId": "f780a8a0-17a4-4b3f-a0e4-41153179c00f"
   },
   "outputs": [
    {
     "name": "stdout",
     "output_type": "stream",
     "text": [
      "Epoch [1000], val_loss: 5240.0361\n",
      "Epoch [2000], val_loss: 5201.5781\n",
      "Epoch [3000], val_loss: 5159.7979\n",
      "Epoch [4000], val_loss: 5124.7881\n",
      "Epoch [5000], val_loss: 5086.9521\n"
     ]
    }
   ],
   "source": [
    "epochs = 5000\n",
    "lr = 1e-1\n",
    "history2 = fit(epochs, lr, model, train_loader, val_loader)"
   ]
  },
  {
   "cell_type": "code",
   "execution_count": null,
   "metadata": {
    "colab": {
     "base_uri": "https://localhost:8080/"
    },
    "executionInfo": {
     "elapsed": 78441,
     "status": "ok",
     "timestamp": 1609341549830,
     "user": {
      "displayName": "Medha Mathur",
      "photoUrl": "https://lh3.googleusercontent.com/a-/AOh14GhU5rpc98_bHp-wBsi8gjk3rfPBSk5rV-xSzpRV=s64",
      "userId": "09694216789696746072"
     },
     "user_tz": -330
    },
    "id": "zYqFCK0ZVBJG",
    "outputId": "d14a19a9-80e3-4d0b-ec40-96d3fdd2345c"
   },
   "outputs": [
    {
     "name": "stdout",
     "output_type": "stream",
     "text": [
      "Epoch [1000], val_loss: 4995.9224\n",
      "Epoch [2000], val_loss: 4908.6475\n",
      "Epoch [3000], val_loss: 4895.8652\n",
      "Epoch [4000], val_loss: 4739.8662\n",
      "Epoch [5000], val_loss: 4689.2583\n"
     ]
    }
   ],
   "source": [
    "epochs = 5000\n",
    "lr = 0.2\n",
    "history3 = fit(epochs, lr, model, train_loader, val_loader)"
   ]
  },
  {
   "cell_type": "code",
   "execution_count": null,
   "metadata": {
    "colab": {
     "base_uri": "https://localhost:8080/"
    },
    "executionInfo": {
     "elapsed": 78901,
     "status": "ok",
     "timestamp": 1609341635903,
     "user": {
      "displayName": "Medha Mathur",
      "photoUrl": "https://lh3.googleusercontent.com/a-/AOh14GhU5rpc98_bHp-wBsi8gjk3rfPBSk5rV-xSzpRV=s64",
      "userId": "09694216789696746072"
     },
     "user_tz": -330
    },
    "id": "jee2HuR9VBJG",
    "outputId": "014582db-4a2a-4fda-ad05-1dffc362a23a"
   },
   "outputs": [
    {
     "name": "stdout",
     "output_type": "stream",
     "text": [
      "Epoch [1000], val_loss: 4565.6807\n",
      "Epoch [2000], val_loss: 4437.4863\n",
      "Epoch [3000], val_loss: 4351.8604\n",
      "Epoch [4000], val_loss: 4219.6021\n",
      "Epoch [5000], val_loss: 4094.5420\n"
     ]
    }
   ],
   "source": [
    "epochs = 5000\n",
    "lr = 0.3\n",
    "history4 = fit(epochs, lr, model, train_loader, val_loader)"
   ]
  },
  {
   "cell_type": "code",
   "execution_count": null,
   "metadata": {
    "colab": {
     "base_uri": "https://localhost:8080/"
    },
    "executionInfo": {
     "elapsed": 78620,
     "status": "ok",
     "timestamp": 1609341767147,
     "user": {
      "displayName": "Medha Mathur",
      "photoUrl": "https://lh3.googleusercontent.com/a-/AOh14GhU5rpc98_bHp-wBsi8gjk3rfPBSk5rV-xSzpRV=s64",
      "userId": "09694216789696746072"
     },
     "user_tz": -330
    },
    "id": "_5WQkO1SVBJG",
    "outputId": "b68e8d02-1adf-46dc-b6a5-aca9be144353"
   },
   "outputs": [
    {
     "name": "stdout",
     "output_type": "stream",
     "text": [
      "Epoch [1000], val_loss: 3968.7471\n",
      "Epoch [2000], val_loss: 3820.9333\n",
      "Epoch [3000], val_loss: 3719.3835\n",
      "Epoch [4000], val_loss: 3633.1836\n",
      "Epoch [5000], val_loss: 3547.5735\n"
     ]
    }
   ],
   "source": [
    "epochs = 5000\n",
    "lr = 0.4\n",
    "history5 = fit(epochs, lr, model, train_loader, val_loader)"
   ]
  },
  {
   "cell_type": "code",
   "execution_count": null,
   "metadata": {
    "colab": {
     "base_uri": "https://localhost:8080/"
    },
    "executionInfo": {
     "elapsed": 79147,
     "status": "ok",
     "timestamp": 1609343448046,
     "user": {
      "displayName": "Medha Mathur",
      "photoUrl": "https://lh3.googleusercontent.com/a-/AOh14GhU5rpc98_bHp-wBsi8gjk3rfPBSk5rV-xSzpRV=s64",
      "userId": "09694216789696746072"
     },
     "user_tz": -330
    },
    "id": "c4MSeSF59zTs",
    "outputId": "93a376c3-d7fd-4029-8598-33f5d414da44"
   },
   "outputs": [
    {
     "name": "stdout",
     "output_type": "stream",
     "text": [
      "Epoch [1000], val_loss: 3204.4497\n",
      "Epoch [2000], val_loss: 3203.5996\n",
      "Epoch [3000], val_loss: 3208.0464\n",
      "Epoch [4000], val_loss: 3217.1309\n",
      "Epoch [5000], val_loss: 3202.7715\n"
     ]
    }
   ],
   "source": [
    "epochs = 5000\r\n",
    "lr = 1e-1\r\n",
    "history5 = fit(epochs, lr, model, train_loader, val_loader)"
   ]
  },
  {
   "cell_type": "markdown",
   "metadata": {
    "id": "44xWFCvTVBJG"
   },
   "source": [
    "**Q: What is the final validation loss of your model?**"
   ]
  },
  {
   "cell_type": "code",
   "execution_count": null,
   "metadata": {
    "id": "Qcjm4bIdVBJH"
   },
   "outputs": [],
   "source": [
    "val_loss = 3202.7715"
   ]
  },
  {
   "cell_type": "markdown",
   "metadata": {
    "id": "9HW3gXFDVBJH"
   },
   "source": [
    "Let's log the final validation loss to Jovian and commit the notebook"
   ]
  },
  {
   "cell_type": "code",
   "execution_count": null,
   "metadata": {
    "colab": {
     "base_uri": "https://localhost:8080/"
    },
    "executionInfo": {
     "elapsed": 1056,
     "status": "ok",
     "timestamp": 1609343472580,
     "user": {
      "displayName": "Medha Mathur",
      "photoUrl": "https://lh3.googleusercontent.com/a-/AOh14GhU5rpc98_bHp-wBsi8gjk3rfPBSk5rV-xSzpRV=s64",
      "userId": "09694216789696746072"
     },
     "user_tz": -330
    },
    "id": "i6Z2SbO2VBJH",
    "outputId": "1016bc2b-4bf6-42f3-e595-0fca1bd6a8b5"
   },
   "outputs": [
    {
     "name": "stdout",
     "output_type": "stream",
     "text": [
      "[jovian] Metrics logged.\u001b[0m\n"
     ]
    }
   ],
   "source": [
    "jovian.log_metrics(val_loss=val_loss)"
   ]
  },
  {
   "cell_type": "code",
   "execution_count": null,
   "metadata": {
    "colab": {
     "base_uri": "https://localhost:8080/",
     "height": 102
    },
    "executionInfo": {
     "elapsed": 3844,
     "status": "ok",
     "timestamp": 1609340199693,
     "user": {
      "displayName": "Medha Mathur",
      "photoUrl": "https://lh3.googleusercontent.com/a-/AOh14GhU5rpc98_bHp-wBsi8gjk3rfPBSk5rV-xSzpRV=s64",
      "userId": "09694216789696746072"
     },
     "user_tz": -330
    },
    "id": "IfxCMedYVBJH",
    "outputId": "20328f8b-b228-4e49-86d1-e2c754c5eb8e"
   },
   "outputs": [
    {
     "name": "stdout",
     "output_type": "stream",
     "text": [
      "[jovian] Detected Colab notebook...\u001b[0m\n",
      "[jovian] Uploading colab notebook to Jovian...\u001b[0m\n",
      "[jovian] Attaching records (metrics, hyperparameters, dataset etc.)\u001b[0m\n",
      "[jovian] Committed successfully! https://jovian.ai/medhamathur27/02-insurance-linear-regression\u001b[0m\n"
     ]
    },
    {
     "data": {
      "application/vnd.google.colaboratory.intrinsic+json": {
       "type": "string"
      },
      "text/plain": [
       "'https://jovian.ai/medhamathur27/02-insurance-linear-regression'"
      ]
     },
     "execution_count": 274,
     "metadata": {
      "tags": []
     },
     "output_type": "execute_result"
    }
   ],
   "source": [
    "jovian.commit(project=project_name, environment=None)"
   ]
  },
  {
   "cell_type": "markdown",
   "metadata": {
    "id": "B3QcNb9xVBJI"
   },
   "source": [
    "Now scroll back up, re-initialize the model, and try different set of values for batch size, number of epochs, learning rate etc. Commit each experiment and use the \"Compare\" and \"View Diff\" options on Jovian to compare the different results."
   ]
  },
  {
   "cell_type": "markdown",
   "metadata": {
    "id": "8UCzpsElVBJI"
   },
   "source": [
    "## Step 5: Make predictions using the trained model\n",
    "\n",
    "**Q: Complete the following function definition to make predictions on a single input**"
   ]
  },
  {
   "cell_type": "code",
   "execution_count": null,
   "metadata": {
    "id": "FoyiHzftVBJI"
   },
   "outputs": [],
   "source": [
    "def predict_single(input, target, model):\n",
    "    inputs = input.unsqueeze(0)\n",
    "    predictions = model(inputs)                # fill this\n",
    "    prediction = predictions[0].detach()\n",
    "    print(\"Input:\", input)\n",
    "    print(\"Target:\", target)\n",
    "    print(\"Prediction:\", prediction)"
   ]
  },
  {
   "cell_type": "code",
   "execution_count": 372,
   "metadata": {
    "colab": {
     "base_uri": "https://localhost:8080/"
    },
    "executionInfo": {
     "elapsed": 2196,
     "status": "ok",
     "timestamp": 1609343801208,
     "user": {
      "displayName": "Medha Mathur",
      "photoUrl": "https://lh3.googleusercontent.com/a-/AOh14GhU5rpc98_bHp-wBsi8gjk3rfPBSk5rV-xSzpRV=s64",
      "userId": "09694216789696746072"
     },
     "user_tz": -330
    },
    "id": "ByNwnGj9VBJI",
    "outputId": "7e8c4e28-6e5c-41f3-83f2-c15880aedaa8"
   },
   "outputs": [
    {
     "name": "stdout",
     "output_type": "stream",
     "text": [
      "Input: tensor([51.0000,  0.0000, 21.7756,  1.0000,  0.0000,  2.0000])\n",
      "Target: tensor([9855.1318])\n",
      "Prediction: tensor([9903.6152])\n"
     ]
    }
   ],
   "source": [
    "input, target = val_ds[0]\n",
    "predict_single(input, target, model)"
   ]
  },
  {
   "cell_type": "code",
   "execution_count": 373,
   "metadata": {
    "colab": {
     "base_uri": "https://localhost:8080/"
    },
    "executionInfo": {
     "elapsed": 1740,
     "status": "ok",
     "timestamp": 1609343804991,
     "user": {
      "displayName": "Medha Mathur",
      "photoUrl": "https://lh3.googleusercontent.com/a-/AOh14GhU5rpc98_bHp-wBsi8gjk3rfPBSk5rV-xSzpRV=s64",
      "userId": "09694216789696746072"
     },
     "user_tz": -330
    },
    "id": "fcBVS9JwVBJJ",
    "outputId": "05f3e6b6-1bd7-4734-da11-b703fd6b98c2"
   },
   "outputs": [
    {
     "name": "stdout",
     "output_type": "stream",
     "text": [
      "Input: tensor([50.0000,  0.0000, 30.4161,  1.0000,  0.0000,  1.0000])\n",
      "Target: tensor([9910.3594])\n",
      "Prediction: tensor([10192.9590])\n"
     ]
    }
   ],
   "source": [
    "input, target = val_ds[10]\n",
    "predict_single(input, target, model)"
   ]
  },
  {
   "cell_type": "code",
   "execution_count": 374,
   "metadata": {
    "colab": {
     "base_uri": "https://localhost:8080/"
    },
    "executionInfo": {
     "elapsed": 1751,
     "status": "ok",
     "timestamp": 1609343808705,
     "user": {
      "displayName": "Medha Mathur",
      "photoUrl": "https://lh3.googleusercontent.com/a-/AOh14GhU5rpc98_bHp-wBsi8gjk3rfPBSk5rV-xSzpRV=s64",
      "userId": "09694216789696746072"
     },
     "user_tz": -330
    },
    "id": "J-mI0I9XVBJJ",
    "outputId": "d49d35b1-c387-432c-f0ea-264d7f9a89d5"
   },
   "outputs": [
    {
     "name": "stdout",
     "output_type": "stream",
     "text": [
      "Input: tensor([41.0000,  1.0000, 30.8959,  2.0000,  0.0000,  1.0000])\n",
      "Target: tensor([7256.7231])\n",
      "Prediction: tensor([7768.4438])\n"
     ]
    }
   ],
   "source": [
    "input, target = val_ds[23]\n",
    "predict_single(input, target, model)"
   ]
  },
  {
   "cell_type": "code",
   "execution_count": 375,
   "metadata": {
    "colab": {
     "base_uri": "https://localhost:8080/"
    },
    "executionInfo": {
     "elapsed": 1559,
     "status": "ok",
     "timestamp": 1609343812444,
     "user": {
      "displayName": "Medha Mathur",
      "photoUrl": "https://lh3.googleusercontent.com/a-/AOh14GhU5rpc98_bHp-wBsi8gjk3rfPBSk5rV-xSzpRV=s64",
      "userId": "09694216789696746072"
     },
     "user_tz": -330
    },
    "id": "rKFrSnUZen2r",
    "outputId": "039df9b4-03cd-4ea8-dd4d-3262aba3a569"
   },
   "outputs": [
    {
     "name": "stdout",
     "output_type": "stream",
     "text": [
      "Input: tensor([37.0000,  1.0000, 46.9953,  3.0000,  0.0000,  2.0000])\n",
      "Target: tensor([6435.6235])\n",
      "Prediction: tensor([7476.6938])\n"
     ]
    }
   ],
   "source": [
    "input, target = val_ds[60]\r\n",
    "predict_single(input, target, model)"
   ]
  },
  {
   "cell_type": "markdown",
   "metadata": {
    "id": "TmeepFO1VBJJ"
   },
   "source": [
    "Are you happy with your model's predictions? Try to improve them further."
   ]
  },
  {
   "cell_type": "markdown",
   "metadata": {
    "id": "7zeQJIneVBJJ"
   },
   "source": [
    "## (Optional) Step 6: Try another dataset & blog about it\n",
    "\n",
    "While this last step is optional for the submission of your assignment, we highly recommend that you do it. Try to replicate this notebook for a different linear regression or logistic regression problem. This will help solidify your understanding, and give you a chance to differentiate the generic patterns in machine learning from problem-specific details.You can use one of these starer notebooks (just change the dataset):\n",
    "\n",
    "- Linear regression (minimal): https://jovian.ai/aakashns/housing-linear-minimal\n",
    "- Logistic regression (minimal): https://jovian.ai/aakashns/mnist-logistic-minimal\n",
    "\n",
    "Here are some sources to find good datasets:\n",
    "\n",
    "- https://lionbridge.ai/datasets/10-open-datasets-for-linear-regression/\n",
    "- https://www.kaggle.com/rtatman/datasets-for-regression-analysis\n",
    "- https://archive.ics.uci.edu/ml/datasets.php?format=&task=reg&att=&area=&numAtt=&numIns=&type=&sort=nameUp&view=table\n",
    "- https://people.sc.fsu.edu/~jburkardt/datasets/regression/regression.html\n",
    "- https://archive.ics.uci.edu/ml/datasets/wine+quality\n",
    "- https://pytorch.org/docs/stable/torchvision/datasets.html\n",
    "\n",
    "We also recommend that you write a blog about your approach to the problem. Here is a suggested structure for your post (feel free to experiment with it):\n",
    "\n",
    "- Interesting title & subtitle\n",
    "- Overview of what the blog covers (which dataset, linear regression or logistic regression, intro to PyTorch)\n",
    "- Downloading & exploring the data\n",
    "- Preparing the data for training\n",
    "- Creating a model using PyTorch\n",
    "- Training the model to fit the data\n",
    "- Your thoughts on how to experiment with different hyperparmeters to reduce loss\n",
    "- Making predictions using the model\n",
    "\n",
    "As with the previous assignment, you can [embed Juptyer notebook cells & outputs from Jovian](https://medium.com/jovianml/share-and-embed-jupyter-notebooks-online-with-jovian-ml-df709a03064e) into your blog. \n",
    "\n",
    "Don't forget to share your work on the forum: https://jovian.ai/forum/t/linear-regression-and-logistic-regression-notebooks-and-blog-posts/14039"
   ]
  },
  {
   "cell_type": "code",
   "execution_count": null,
   "metadata": {
    "colab": {
     "base_uri": "https://localhost:8080/"
    },
    "id": "xMo_nQKyVBJK",
    "outputId": "9ff7b316-4867-4702-8d4f-6ce07579b829"
   },
   "outputs": [
    {
     "name": "stdout",
     "output_type": "stream",
     "text": [
      "[jovian] Detected Colab notebook...\u001b[0m\n",
      "[jovian] Uploading colab notebook to Jovian...\u001b[0m\n"
     ]
    }
   ],
   "source": [
    "jovian.commit(project=project_name, environment=None)\n",
    "jovian.commit(project=project_name, environment=None) # try again, kaggle fails sometimes"
   ]
  },
  {
   "cell_type": "code",
   "execution_count": null,
   "metadata": {
    "id": "zbDvADo5VBJK"
   },
   "outputs": [],
   "source": []
  }
 ],
 "metadata": {
  "colab": {
   "collapsed_sections": [],
   "name": "02-insurance-linear.ipynb",
   "provenance": []
  },
  "language_info": {
   "codemirror_mode": {
    "name": "ipython",
    "version": 3
   },
   "file_extension": ".py",
   "mimetype": "text/x-python",
   "name": "python",
   "nbconvert_exporter": "python",
   "pygments_lexer": "ipython3",
   "version": "3.8.5"
  },
  "widgets": {
   "application/vnd.jupyter.widget-state+json": {
    "0fcf4f81ba0c49d58d56a9e7fc4775d5": {
     "model_module": "@jupyter-widgets/base",
     "model_name": "LayoutModel",
     "state": {
      "_model_module": "@jupyter-widgets/base",
      "_model_module_version": "1.2.0",
      "_model_name": "LayoutModel",
      "_view_count": null,
      "_view_module": "@jupyter-widgets/base",
      "_view_module_version": "1.2.0",
      "_view_name": "LayoutView",
      "align_content": null,
      "align_items": null,
      "align_self": null,
      "border": null,
      "bottom": null,
      "display": null,
      "flex": null,
      "flex_flow": null,
      "grid_area": null,
      "grid_auto_columns": null,
      "grid_auto_flow": null,
      "grid_auto_rows": null,
      "grid_column": null,
      "grid_gap": null,
      "grid_row": null,
      "grid_template_areas": null,
      "grid_template_columns": null,
      "grid_template_rows": null,
      "height": null,
      "justify_content": null,
      "justify_items": null,
      "left": null,
      "margin": null,
      "max_height": null,
      "max_width": null,
      "min_height": null,
      "min_width": null,
      "object_fit": null,
      "object_position": null,
      "order": null,
      "overflow": null,
      "overflow_x": null,
      "overflow_y": null,
      "padding": null,
      "right": null,
      "top": null,
      "visibility": null,
      "width": null
     }
    },
    "1dec966855ed47daa73cc35993ab430f": {
     "model_module": "@jupyter-widgets/base",
     "model_name": "LayoutModel",
     "state": {
      "_model_module": "@jupyter-widgets/base",
      "_model_module_version": "1.2.0",
      "_model_name": "LayoutModel",
      "_view_count": null,
      "_view_module": "@jupyter-widgets/base",
      "_view_module_version": "1.2.0",
      "_view_name": "LayoutView",
      "align_content": null,
      "align_items": null,
      "align_self": null,
      "border": null,
      "bottom": null,
      "display": null,
      "flex": null,
      "flex_flow": null,
      "grid_area": null,
      "grid_auto_columns": null,
      "grid_auto_flow": null,
      "grid_auto_rows": null,
      "grid_column": null,
      "grid_gap": null,
      "grid_row": null,
      "grid_template_areas": null,
      "grid_template_columns": null,
      "grid_template_rows": null,
      "height": null,
      "justify_content": null,
      "justify_items": null,
      "left": null,
      "margin": null,
      "max_height": null,
      "max_width": null,
      "min_height": null,
      "min_width": null,
      "object_fit": null,
      "object_position": null,
      "order": null,
      "overflow": null,
      "overflow_x": null,
      "overflow_y": null,
      "padding": null,
      "right": null,
      "top": null,
      "visibility": null,
      "width": null
     }
    },
    "54a3423e3df64f27871fd1bccd468d9e": {
     "model_module": "@jupyter-widgets/controls",
     "model_name": "HBoxModel",
     "state": {
      "_dom_classes": [],
      "_model_module": "@jupyter-widgets/controls",
      "_model_module_version": "1.5.0",
      "_model_name": "HBoxModel",
      "_view_count": null,
      "_view_module": "@jupyter-widgets/controls",
      "_view_module_version": "1.5.0",
      "_view_name": "HBoxView",
      "box_style": "",
      "children": [
       "IPY_MODEL_db149543d8614e91a145949f8a6b662a",
       "IPY_MODEL_8740f719a16b48ffabfe29756c630a0d"
      ],
      "layout": "IPY_MODEL_0fcf4f81ba0c49d58d56a9e7fc4775d5"
     }
    },
    "60eb63792a3147daa2533be25e6e60d6": {
     "model_module": "@jupyter-widgets/controls",
     "model_name": "DescriptionStyleModel",
     "state": {
      "_model_module": "@jupyter-widgets/controls",
      "_model_module_version": "1.5.0",
      "_model_name": "DescriptionStyleModel",
      "_view_count": null,
      "_view_module": "@jupyter-widgets/base",
      "_view_module_version": "1.2.0",
      "_view_name": "StyleView",
      "description_width": ""
     }
    },
    "8740f719a16b48ffabfe29756c630a0d": {
     "model_module": "@jupyter-widgets/controls",
     "model_name": "HTMLModel",
     "state": {
      "_dom_classes": [],
      "_model_module": "@jupyter-widgets/controls",
      "_model_module_version": "1.5.0",
      "_model_name": "HTMLModel",
      "_view_count": null,
      "_view_module": "@jupyter-widgets/controls",
      "_view_module_version": "1.5.0",
      "_view_name": "HTMLView",
      "description": "",
      "description_tooltip": null,
      "layout": "IPY_MODEL_fb80e6cd5e404280aeeeb3811b54d0df",
      "placeholder": "​",
      "style": "IPY_MODEL_60eb63792a3147daa2533be25e6e60d6",
      "value": " 57344/? [00:15&lt;00:00, 144451.80it/s]"
     }
    },
    "db149543d8614e91a145949f8a6b662a": {
     "model_module": "@jupyter-widgets/controls",
     "model_name": "FloatProgressModel",
     "state": {
      "_dom_classes": [],
      "_model_module": "@jupyter-widgets/controls",
      "_model_module_version": "1.5.0",
      "_model_name": "FloatProgressModel",
      "_view_count": null,
      "_view_module": "@jupyter-widgets/controls",
      "_view_module_version": "1.5.0",
      "_view_name": "ProgressView",
      "bar_style": "info",
      "description": "",
      "description_tooltip": null,
      "layout": "IPY_MODEL_1dec966855ed47daa73cc35993ab430f",
      "max": 1,
      "min": 0,
      "orientation": "horizontal",
      "style": "IPY_MODEL_f131cc911cf649868e9043957238e413",
      "value": 1
     }
    },
    "f131cc911cf649868e9043957238e413": {
     "model_module": "@jupyter-widgets/controls",
     "model_name": "ProgressStyleModel",
     "state": {
      "_model_module": "@jupyter-widgets/controls",
      "_model_module_version": "1.5.0",
      "_model_name": "ProgressStyleModel",
      "_view_count": null,
      "_view_module": "@jupyter-widgets/base",
      "_view_module_version": "1.2.0",
      "_view_name": "StyleView",
      "bar_color": null,
      "description_width": "initial"
     }
    },
    "fb80e6cd5e404280aeeeb3811b54d0df": {
     "model_module": "@jupyter-widgets/base",
     "model_name": "LayoutModel",
     "state": {
      "_model_module": "@jupyter-widgets/base",
      "_model_module_version": "1.2.0",
      "_model_name": "LayoutModel",
      "_view_count": null,
      "_view_module": "@jupyter-widgets/base",
      "_view_module_version": "1.2.0",
      "_view_name": "LayoutView",
      "align_content": null,
      "align_items": null,
      "align_self": null,
      "border": null,
      "bottom": null,
      "display": null,
      "flex": null,
      "flex_flow": null,
      "grid_area": null,
      "grid_auto_columns": null,
      "grid_auto_flow": null,
      "grid_auto_rows": null,
      "grid_column": null,
      "grid_gap": null,
      "grid_row": null,
      "grid_template_areas": null,
      "grid_template_columns": null,
      "grid_template_rows": null,
      "height": null,
      "justify_content": null,
      "justify_items": null,
      "left": null,
      "margin": null,
      "max_height": null,
      "max_width": null,
      "min_height": null,
      "min_width": null,
      "object_fit": null,
      "object_position": null,
      "order": null,
      "overflow": null,
      "overflow_x": null,
      "overflow_y": null,
      "padding": null,
      "right": null,
      "top": null,
      "visibility": null,
      "width": null
     }
    }
   }
  }
 },
 "nbformat": 4,
 "nbformat_minor": 0
}